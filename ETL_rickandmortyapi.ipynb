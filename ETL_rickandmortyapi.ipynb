{
  "nbformat": 4,
  "nbformat_minor": 0,
  "metadata": {
    "colab": {
      "provenance": [],
      "authorship_tag": "ABX9TyOruwRvSlZHq3+uGheV/zCD",
      "include_colab_link": true
    },
    "kernelspec": {
      "name": "python3",
      "display_name": "Python 3"
    },
    "language_info": {
      "name": "python"
    }
  },
  "cells": [
    {
      "cell_type": "markdown",
      "metadata": {
        "id": "view-in-github",
        "colab_type": "text"
      },
      "source": [
        "<a href=\"https://colab.research.google.com/github/jesicagimenez94/DataAnalyst/blob/main/ETL_rickandmortyapi.ipynb\" target=\"_parent\"><img src=\"https://colab.research.google.com/assets/colab-badge.svg\" alt=\"Open In Colab\"/></a>"
      ]
    },
    {
      "cell_type": "code",
      "execution_count": 2,
      "metadata": {
        "colab": {
          "base_uri": "https://localhost:8080/"
        },
        "id": "neUQ5nsKPuHD",
        "outputId": "ada8ea9f-e1fa-42c6-e3c9-c4a2e132f44b"
      },
      "outputs": [
        {
          "output_type": "stream",
          "name": "stdout",
          "text": [
            "Se han extraído 826 personajes.\n",
            "Datos transformados, total de registros limpios: 826\n",
            "Datos cargados exitosamente en rick_and_morty_characters.csv\n"
          ]
        }
      ],
      "source": [
        "import pandas as pd\n",
        "import requests\n",
        "\n",
        "# Extraemos los datos de la API de Rick and Morty\n",
        "def extract_data_from_api():\n",
        "    base_url = \"https://rickandmortyapi.com/api/character\"\n",
        "    characters = []\n",
        "\n",
        "    while base_url:\n",
        "        response = requests.get(base_url)\n",
        "        if response.status_code == 200:\n",
        "            data = response.json()\n",
        "            characters.extend(data.get(\"results\", []))\n",
        "            base_url = data.get(\"info\", {}).get(\"next\")  # Cambiar al siguiente paginado\n",
        "        else:\n",
        "            print(f\"Error en la solicitud: {response.status_code}\")\n",
        "            break\n",
        "\n",
        "    print(f\"Se han extraído {len(characters)} personajes.\")\n",
        "    return characters\n",
        "\n",
        "# Limpiamos y organizamos los datos\n",
        "def transform_data(characters):\n",
        "    df = pd.DataFrame(characters)\n",
        "\n",
        "    # Dejamos solo las columnas importantes\n",
        "    relevant_columns = [\"id\", \"name\", \"status\", \"species\", \"type\", \"gender\", \"origin\", \"location\"]\n",
        "    df = df[relevant_columns]\n",
        "\n",
        "    # Normalizamos las columnas de tipo diccionario (origin y location)\n",
        "    df[\"origin_name\"] = df[\"origin\"].apply(lambda x: x[\"name\"] if isinstance(x, dict) else \"\")\n",
        "    df[\"location_name\"] = df[\"location\"].apply(lambda x: x[\"name\"] if isinstance(x, dict) else \"\")\n",
        "    df.drop(columns=[\"origin\", \"location\"], inplace=True)\n",
        "\n",
        "    print(f\"Datos transformados, total de registros limpios: {df.shape[0]}\")\n",
        "    return df\n",
        "\n",
        "# Cargamos el DataFrame en un archivo CSV\n",
        "def load_data_to_csv(df, filename=\"rick_and_morty_characters.csv\"):\n",
        "    df.to_csv(filename, index=False)\n",
        "    print(f\"Datos cargados exitosamente en {filename}\")\n",
        "\n",
        "# Función que ejecuta el ETL\n",
        "def run_etl():\n",
        "    # Extracción\n",
        "    characters = extract_data_from_api()\n",
        "\n",
        "    # Transformación\n",
        "    transformed_data = transform_data(characters)\n",
        "\n",
        "    # Carga\n",
        "    load_data_to_csv(transformed_data)\n",
        "\n",
        "# Ejecutar el proceso ETL\n",
        "run_etl()\n",
        "\n"
      ]
    },
    {
      "cell_type": "code",
      "source": [
        "from google.colab import files\n",
        "files.download(\"rick_and_morty_characters.csv\")"
      ],
      "metadata": {
        "id": "YxOxSXWjThm5"
      },
      "execution_count": null,
      "outputs": []
    }
  ]
}